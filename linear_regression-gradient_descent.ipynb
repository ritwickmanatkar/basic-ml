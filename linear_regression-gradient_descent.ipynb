{
 "cells": [
  {
   "cell_type": "code",
   "execution_count": 1,
   "id": "initial_id",
   "metadata": {
    "collapsed": true,
    "ExecuteTime": {
     "end_time": "2024-08-01T00:18:46.993607Z",
     "start_time": "2024-08-01T00:18:46.225634Z"
    }
   },
   "outputs": [],
   "source": [
    "import numpy as np\n",
    "import matplotlib.pyplot as plt"
   ]
  },
  {
   "cell_type": "markdown",
   "source": [
    "### Generate Data"
   ],
   "metadata": {
    "collapsed": false
   },
   "id": "c5b0a7303bac063"
  },
  {
   "cell_type": "code",
   "execution_count": 2,
   "outputs": [],
   "source": [
    "# Sample Size\n",
    "n_samples = 500\n",
    "\n",
    "# Define the Independent Variable/Feature\n",
    "low, high = 0, 20\n",
    "X = np.random.uniform(low=low, high=high, size=n_samples)"
   ],
   "metadata": {
    "collapsed": false,
    "ExecuteTime": {
     "end_time": "2024-08-01T00:18:47.004124Z",
     "start_time": "2024-08-01T00:18:46.996947Z"
    }
   },
   "id": "8d9e42f6be360b7"
  },
  {
   "cell_type": "code",
   "execution_count": 3,
   "outputs": [],
   "source": [
    "# Define the Dependent Variable/Outcome\n",
    "distribution_mean, distribution_std = 0, 2.5\n",
    "Y = 2*X + np.random.normal(loc=distribution_mean, scale=distribution_std, size=n_samples)"
   ],
   "metadata": {
    "collapsed": false,
    "ExecuteTime": {
     "end_time": "2024-08-01T00:18:47.053521Z",
     "start_time": "2024-08-01T00:18:47.002546Z"
    }
   },
   "id": "edb4d9cf6f4979e0"
  },
  {
   "cell_type": "code",
   "execution_count": null,
   "outputs": [],
   "source": [
    "plt.scatter(X, Y);"
   ],
   "metadata": {
    "collapsed": false,
    "is_executing": true,
    "ExecuteTime": {
     "start_time": "2024-08-01T00:18:47.054760Z"
    }
   },
   "id": "5d63302199d7e2c1"
  },
  {
   "cell_type": "markdown",
   "source": [
    "### Gradient Descent from Scratch"
   ],
   "metadata": {
    "collapsed": false
   },
   "id": "66d045b4df2f793"
  },
  {
   "cell_type": "code",
   "execution_count": null,
   "outputs": [],
   "source": [
    "def gradient_descent(x: np.array, y: np.array, learning_rate=0.001, n_iterations=100):\n",
    "    \"\"\" This function takes in the predictor and outcome as input. It runs GD algorithm on it and\n",
    "     returns the result after the specified no of iterations are completed. \n",
    "    \n",
    "    :param x: X\n",
    "    :param y: Y\n",
    "    :param learning_rate: Learning Rate/ Update Factor\n",
    "    :param n_iterations: No of iterations of GD to be applied\n",
    "    :return: None\n",
    "    \"\"\"\n",
    "    n_samples, n_predictors = x.shape\n",
    "            \n",
    "    weights, bias = np.zeros(n_predictors), 0\n",
    "    \n",
    "    weights_history, bias_history = [weights], [bias]\n",
    "    \n",
    "    for _ in range(n_iterations):\n",
    "        y_predicted = np.dot(x, weights) + bias\n",
    "        \n",
    "        delta_weights = (1 / n_samples) * np.dot(x.T, (y_predicted - y))\n",
    "        delta_bias = (1 / n_samples) * np.sum(y_predicted - y)\n",
    "        \n",
    "        weights = weights - learning_rate * delta_weights\n",
    "        bias = bias - learning_rate * delta_bias\n",
    "        \n",
    "        weights_history.append(weights)\n",
    "        bias_history.append(bias)\n",
    "    \n",
    "    plt.plot(range(n_iterations + 1), bias_history)\n",
    "    plt.title(f\"Bias Evolution over {n_iterations} iterations\")\n",
    "    plt.grid()\n",
    "    plt.show()\n",
    "    \n",
    "    for pred_idx in range(n_predictors):\n",
    "        plt.plot(range(n_iterations + 1), [ls[pred_idx] for ls in weights_history])\n",
    "        plt.title(f\"Evolution of Weight 'x_{pred_idx}'over {n_iterations} iterations\")\n",
    "        plt.grid()\n",
    "        plt.show()\n",
    "    \n",
    "    # TODO: ZipSort x and y for multivariate input.\n",
    "    for idx in range(n_predictors):\n",
    "        plt.scatter(x[:, idx], y)\n",
    "        plt.plot(x[:, idx], np.dot(x, weights) + bias, color=\"red\")\n",
    "        plt.title(f\"Fit of the GD Line on the predictor 'x_{idx}'\")\n",
    "        plt.grid()\n",
    "        plt.show()\n",
    "    \n",
    "    print(\"Final MSE value: \", np.square(y - np.dot(x, weights) + bias).sum() / n_samples)\n",
    "    return weights, bias"
   ],
   "metadata": {
    "collapsed": false,
    "is_executing": true
   },
   "id": "f29dd071339599f5"
  },
  {
   "cell_type": "code",
   "execution_count": null,
   "outputs": [],
   "source": [
    "gradient_descent(X.reshape(-1, 1), Y)"
   ],
   "metadata": {
    "collapsed": false,
    "is_executing": true
   },
   "id": "4c402deccac99825"
  },
  {
   "cell_type": "markdown",
   "source": [
    "### Multivariate Example"
   ],
   "metadata": {
    "collapsed": false
   },
   "id": "6e09f6bee2b12b12"
  },
  {
   "cell_type": "code",
   "execution_count": null,
   "outputs": [],
   "source": [
    "# Sample Size\n",
    "n_samples = 500\n",
    "\n",
    "# Define the Independent Variable/Feature\n",
    "low, high = 0, 20\n",
    "X = np.random.uniform(low=low, high=high, size=(n_samples, 3))"
   ],
   "metadata": {
    "collapsed": false,
    "is_executing": true
   },
   "id": "9f34cd91c4b9b865"
  },
  {
   "cell_type": "code",
   "execution_count": null,
   "outputs": [],
   "source": [
    "# Define the Dependent Variable/Outcome\n",
    "distribution_mean, distribution_std = 0, 2.5\n",
    "Y = 2*X[:, 0] + 3*X[:, 1] -4*X[:, 2] + np.random.normal(loc=distribution_mean, scale=distribution_std, size=n_samples)"
   ],
   "metadata": {
    "collapsed": false,
    "is_executing": true
   },
   "id": "a08ecb1e1b41d21d"
  },
  {
   "cell_type": "code",
   "execution_count": null,
   "outputs": [],
   "source": [
    "for idx in range(3):\n",
    "    plt.scatter(X[:, idx], Y);\n",
    "    plt.show()"
   ],
   "metadata": {
    "collapsed": false,
    "is_executing": true
   },
   "id": "e6b713a6611b065f"
  },
  {
   "cell_type": "code",
   "execution_count": null,
   "outputs": [],
   "source": [
    "gradient_descent(X, Y)"
   ],
   "metadata": {
    "collapsed": false,
    "is_executing": true
   },
   "id": "81e1e5c3a15d2a20"
  },
  {
   "cell_type": "code",
   "execution_count": null,
   "outputs": [],
   "source": [],
   "metadata": {
    "collapsed": false,
    "is_executing": true
   },
   "id": "acdfbef61b98b9c7"
  }
 ],
 "metadata": {
  "kernelspec": {
   "display_name": "Python 3",
   "language": "python",
   "name": "python3"
  },
  "language_info": {
   "codemirror_mode": {
    "name": "ipython",
    "version": 2
   },
   "file_extension": ".py",
   "mimetype": "text/x-python",
   "name": "python",
   "nbconvert_exporter": "python",
   "pygments_lexer": "ipython2",
   "version": "2.7.6"
  }
 },
 "nbformat": 4,
 "nbformat_minor": 5
}
